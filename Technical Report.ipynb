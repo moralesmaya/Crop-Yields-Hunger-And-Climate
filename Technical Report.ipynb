{
 "cells": [
  {
   "cell_type": "markdown",
   "metadata": {},
   "source": [
    "\n",
    "# Climate Change and Food Scarcity \n",
    "\n",
    "## Technical report \n",
    "\n",
    "\n",
    "### Project goal: \n",
    "The broader goal of this project was to predict future food scarcity by country and year based on different projected climate conditions.\n",
    "\n",
    " To accomplish this I built a model which used historical climate data to predict yields. I then took this model, retrained it on future climate projections made by NASA and then made yield predictions based on both climate mitigation and no mitigation conditions. I wanted to create predictions specific to year and country. \n",
    "\n",
    "\n",
    "#### Findings:\n",
    "Though this project cannot make reliable inferences on forecasted or future projected data, there were many important key findings derived from historical data. From my models and code it is clear that 1. Climate variability influences overall yield productivity, and 2. Hunger can be predicted based on a given country and years yields. This data shows that not all countries, and crops  are being impacted equally by climate change. The developing world suffers greater crop losses and greater climate variability. Though hunger has generally decreased throughout time, since 2014 hunger is beginning to rise again. Countries in Africa in particular are experiencing increased rates of overall hunger from the year 2015 till now. In addition to this, scientists have come to a conclusion that to meet the hunger needs of the future that since 2000 crop production needs to double or increase at an overall rate of 2.4% annually. Data analysis shows that in the majority of years across the majority of countries this target is not being met and therefore increased future food scarcity can be predicted. \n",
    "\n",
    "\n",
    "#### Data preprocessing: \n",
    "A total of 107 datasets were collected for the purposes of this project. The majority of which was not directly used in the modeling process.  23 Datasets were used directly to create the models, this data included population data, hunger data, temperature and climate data but projected and historical. The models also took into account yield data for over 10 separate crops globally. All data was extensively cleaned. Some temperature and yield factors were calculated based on empirical research in the field and then processed with the rest of the data in python. \n",
    "\n",
    "#### My final models and modeling process \n",
    "I began my modeling process. I began with SARIMAX because it’s useful in predicting time series data.I first built a model which used historic climate data to predict crop yields. After this model performed well I trained another model using the same parameters with  projected climate data sets from NASA, one where Co2 was mitigated and temperatures controlled the other was the non mitigated temperature set where temperatures increased by 9.6 degrees celsius by 2100. \n",
    " The biggest benefit of the Sarimax model was its ability to predict yield differences across different projected climate conditions. This model showed crop productivity decreasing at an increased rate in the condition where no climate change occurred. The problem with this model and general model forecasting is that the further in time you go out the less accurate your predictions become and the more they regress to the mean. I believed that this barrier would be mitigated by adding in future projected climate data to train the model. However, all of my models still suffered from accuracy loss over time. \n",
    "Decision Tree Regressors were also trained. These models facilitated making predictions by country with greater ease than with my time series models. I scaled and one-hot encoded my features before training a decision tree regressor on the data. I first built a model which predicted yields based on historical climate data which performed at an accuracy rate of 88% across train and test data (determined by r-squared values). The climate data included temperature, precipitation, temperature and precipitation change by percent, temperature anomalies, and country. I then trained the same model on future climate conditions and made predictions on future yields by country. The accuracy for these predictions cannot be calculated as it was based on unseen data. \n",
    "To predict future hunger I created a decision tree regressor which only took into account year, country, and yield amount. The model was able to predict the % of the population undernourished with an accuracy rate of 88% determined by r-squared values.  I then used the projected yields I gathered from both the mitigation and no mitigation yield models and made future predictions about hunger based on mitigation and no mitigation conditions. \n",
    "Overall, the model was able to predict hunger but again this is on unseen data and therefore no accuracy measurement was formed. The model was not able to differentiate between climate mitigation conditions and non-mitigated circumstances. \n",
    "\n",
    "#### Streamlit\n",
    "The final product of this project was a streamlit web application which showcased a variety of climate change, yield, and hunger graphs and predictions. The website is in the process of being hosted on a server to be made publicly available. \n",
    "\n",
    "#### Future Directions \n",
    "In the future I believe with greater feature engineering of projected data more accurate hunger and yield predictions could be made. In addition to feature engineering a more specific climate by loacation approach could be adopted in modeling as different countries are impacted differently by climate change. \n",
    "\n",
    "\n",
    "The code and data for this project can be found on my github here: https://github.com/moralesmaya \n"
   ]
  },
  {
   "cell_type": "code",
   "execution_count": null,
   "metadata": {},
   "outputs": [],
   "source": []
  }
 ],
 "metadata": {
  "kernelspec": {
   "display_name": "Python 3",
   "language": "python",
   "name": "python3"
  },
  "language_info": {
   "codemirror_mode": {
    "name": "ipython",
    "version": 3
   },
   "file_extension": ".py",
   "mimetype": "text/x-python",
   "name": "python",
   "nbconvert_exporter": "python",
   "pygments_lexer": "ipython3",
   "version": "3.8.3"
  }
 },
 "nbformat": 4,
 "nbformat_minor": 4
}
